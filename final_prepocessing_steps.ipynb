{
  "nbformat": 4,
  "nbformat_minor": 0,
  "metadata": {
    "colab": {
      "name": "Final_prepocessing_steps.ipynb",
      "provenance": [],
      "collapsed_sections": []
    },
    "kernelspec": {
      "name": "python3",
      "display_name": "Python 3"
    },
    "language_info": {
      "name": "python"
    }
  },
  "cells": [
    {
      "cell_type": "markdown",
      "source": [
        "## Merge all prepocessed data to start analysis\n"
      ],
      "metadata": {
        "id": "gfsYskP55RxD"
      }
    },
    {
      "cell_type": "code",
      "execution_count": 1,
      "metadata": {
        "colab": {
          "base_uri": "https://localhost:8080/"
        },
        "id": "vsq_Yvgj5Bib",
        "outputId": "2d198d8c-3b4e-453a-b769-312d7322f5c3"
      },
      "outputs": [
        {
          "output_type": "stream",
          "name": "stdout",
          "text": [
            "Mounted at /content/drive\n"
          ]
        }
      ],
      "source": [
        "# connect to google drive\n",
        "\n",
        "from google.colab import drive\n",
        "drive.mount('/content/drive')"
      ]
    },
    {
      "cell_type": "code",
      "source": [
        "# import necessary libraries\n",
        "import pandas as pd\n",
        "import glob\n",
        "import os\n",
        "\n",
        "path = '/content/drive/MyDrive/2022.05.24_Final-Project_Shared-Folder/classified/reviewed'\n",
        "\n",
        "# use glob to get all the csv files in the folder\n",
        "csv_files = glob.glob(os.path.join(path, \"*.csv\"))\n",
        "    \n",
        "# loop over the list of csv files\n",
        "df_files = (pd.read_csv(f) for f in csv_files)\n",
        "# concat to one dataframe\n",
        "df = pd.concat(df_files, ignore_index=True)\n",
        "# reset the index of final DataFrame\n",
        "df.reset_index(inplace = True, drop = True)\n",
        "# drop columns not important for the analysis\n",
        "df.drop(['Unnamed: 0', 'review', 'classification_title'], axis = 1, inplace = True)"
      ],
      "metadata": {
        "id": "dCNobKnn6g-D"
      },
      "execution_count": 2,
      "outputs": []
    },
    {
      "cell_type": "code",
      "source": [
        "print(df.info())"
      ],
      "metadata": {
        "colab": {
          "base_uri": "https://localhost:8080/"
        },
        "id": "4lk3Q8Q0E_kO",
        "outputId": "2a94266a-e23a-4153-fea2-fc3ef7e65720"
      },
      "execution_count": 3,
      "outputs": [
        {
          "output_type": "stream",
          "name": "stdout",
          "text": [
            "<class 'pandas.core.frame.DataFrame'>\n",
            "RangeIndex: 725 entries, 0 to 724\n",
            "Data columns (total 8 columns):\n",
            " #   Column          Non-Null Count  Dtype \n",
            "---  ------          --------------  ----- \n",
            " 0   title           725 non-null    object\n",
            " 1   country         725 non-null    object\n",
            " 2   summary         725 non-null    object\n",
            " 3   classification  725 non-null    object\n",
            " 4   language        725 non-null    object\n",
            " 5   topic           725 non-null    object\n",
            " 6   link            725 non-null    object\n",
            " 7   published_date  725 non-null    object\n",
            "dtypes: object(8)\n",
            "memory usage: 45.4+ KB\n",
            "None\n"
          ]
        }
      ]
    },
    {
      "cell_type": "code",
      "source": [
        "# make classification also numerical\n",
        "df['classification_num'] = df['classification'].apply(lambda x: 1 if x == 'POSITIVE' else 0)\n",
        "# drop countries where there are to few results\n",
        "df = df.drop(df[((df.country == \"unknown\") | (df.country == \"GB\") | (df.country == \"SG\")| (df.country == \"IS\") |(df.country == \"Syria\") | (df.country == \"SA\") | (df.country == \"SY\") | (df.country == \"VI\"))].index)\n",
        "# fix country names\n",
        "df[\"country\"] = df[\"country\"].apply(lambda x: \"AE\" if x == 'UAE' else x)\n",
        "df[\"country\"] = df[\"country\"].apply(lambda x: \"EG\" if x == 'Egypt' else x)\n",
        "# drop duplicates if there are any\n",
        "df.drop_duplicates(inplace = True)\n",
        "# display info\n",
        "df.info()"
      ],
      "metadata": {
        "colab": {
          "base_uri": "https://localhost:8080/"
        },
        "id": "1rbn1Q9p70pO",
        "outputId": "5ca88840-f480-4342-b4bb-cace4303914b"
      },
      "execution_count": 4,
      "outputs": [
        {
          "output_type": "stream",
          "name": "stdout",
          "text": [
            "<class 'pandas.core.frame.DataFrame'>\n",
            "Int64Index: 689 entries, 0 to 723\n",
            "Data columns (total 9 columns):\n",
            " #   Column              Non-Null Count  Dtype \n",
            "---  ------              --------------  ----- \n",
            " 0   title               689 non-null    object\n",
            " 1   country             689 non-null    object\n",
            " 2   summary             689 non-null    object\n",
            " 3   classification      689 non-null    object\n",
            " 4   language            689 non-null    object\n",
            " 5   topic               689 non-null    object\n",
            " 6   link                689 non-null    object\n",
            " 7   published_date      689 non-null    object\n",
            " 8   classification_num  689 non-null    int64 \n",
            "dtypes: int64(1), object(8)\n",
            "memory usage: 53.8+ KB\n"
          ]
        }
      ]
    },
    {
      "cell_type": "code",
      "source": [
        "# save dataframe to csv\n",
        "df.to_csv(f\"/content/drive/MyDrive/2022.05.24_Final-Project_Shared-Folder/final_dataset.csv\")"
      ],
      "metadata": {
        "id": "P_H3NH_DDHUT"
      },
      "execution_count": 196,
      "outputs": []
    },
    {
      "cell_type": "markdown",
      "source": [
        "## Do some basic analytics\n",
        "\n",
        "main analysis should be done in Tablou though, to practise that tool as well"
      ],
      "metadata": {
        "id": "u8DMa8nIS2XM"
      }
    },
    {
      "cell_type": "code",
      "source": [
        "import matplotlib.pyplot as plt\n",
        "import seaborn as sns\n",
        "sns.set_style(\"darkgrid\")\n",
        "\n",
        "# exclude some columns first\n",
        "plot_df = df.drop(['link', 'summary', 'title', 'classification_num'], axis = 1)\n",
        "\n",
        "# trim the publishing date \n",
        "#plot_df['published_date'] = pd.to_datetime(df['published_date']).dt.normalize() # this one keeps the time but sets it to 00:00:00\n",
        "plot_df['published_date'] = pd.to_datetime(plot_df['published_date']).dt.date\n",
        "plot_df.sort_values(by='published_date', inplace=True)\n",
        "\n",
        "fig = plt.figure(figsize=(18,20))\n",
        "for index in range(len(plot_df.columns)):\n",
        "    plt.subplot(9,5,index+1)\n",
        "    sns.countplot(x=plot_df.iloc[:,index], data=plot_df.dropna())\n",
        "    plt.xticks(rotation=90)\n",
        "fig.tight_layout(pad=1.0)"
      ],
      "metadata": {
        "colab": {
          "base_uri": "https://localhost:8080/",
          "height": 180
        },
        "id": "HmmZRaqJS-b5",
        "outputId": "65697823-2a50-4a57-c4d3-3c3fe48906c3"
      },
      "execution_count": 15,
      "outputs": [
        {
          "output_type": "display_data",
          "data": {
            "text/plain": [
              "<Figure size 1296x1440 with 5 Axes>"
            ],
            "image/png": "[encoded data removed]"
          },
          "metadata": {}
        }
      ]
    },
    {
      "cell_type": "code",
      "source": [
        "gf = df[[\"classification\", \"country\", \"title\"]].groupby([\"country\", \"classification\"]).count()\n",
        "gf"
      ],
      "metadata": {
        "colab": {
          "base_uri": "https://localhost:8080/",
          "height": 959
        },
        "id": "m65sqj_kGjwl",
        "outputId": "6fb5a578-3018-4189-ab32-2beb85b98ed1"
      },
      "execution_count": 6,
      "outputs": [
        {
          "output_type": "execute_result",
          "data": {
            "text/plain": [
              "                        title\n",
              "country classification       \n",
              "AE      NEGATIVE           13\n",
              "        POSITIVE            2\n",
              "CN      NEGATIVE           49\n",
              "        POSITIVE           33\n",
              "DE      NEGATIVE           38\n",
              "        POSITIVE           53\n",
              "EG      NEGATIVE           44\n",
              "        POSITIVE            7\n",
              "ES      NEGATIVE            4\n",
              "        POSITIVE            3\n",
              "FR      NEGATIVE           20\n",
              "        POSITIVE           13\n",
              "IN      NEGATIVE           20\n",
              "        POSITIVE           17\n",
              "IT      NEGATIVE           32\n",
              "        POSITIVE           11\n",
              "LB      NEGATIVE            7\n",
              "        POSITIVE            7\n",
              "RU      NEGATIVE           24\n",
              "        POSITIVE            8\n",
              "TR      NEGATIVE           50\n",
              "        POSITIVE           12\n",
              "US      NEGATIVE           58\n",
              "        POSITIVE           35\n",
              "VN      NEGATIVE           60\n",
              "        POSITIVE           16\n",
              "ZA      NEGATIVE           15\n",
              "        POSITIVE           38"
            ],
            "text/html": [
              "\n",
              "  <div id=\"df-d34aa19b-1adf-4915-bbad-78bc3bf4a5f3\">\n",
              "    <div class=\"colab-df-container\">\n",
              "      <div>\n",
              "<style scoped>\n",
              "    .dataframe tbody tr th:only-of-type {\n",
              "        vertical-align: middle;\n",
              "    }\n",
              "\n",
              "    .dataframe tbody tr th {\n",
              "        vertical-align: top;\n",
              "    }\n",
              "\n",
              "    .dataframe thead th {\n",
              "        text-align: right;\n",
              "    }\n",
              "</style>\n",
              "<table border=\"1\" class=\"dataframe\">\n",
              "  <thead>\n",
              "    <tr style=\"text-align: right;\">\n",
              "      <th></th>\n",
              "      <th></th>\n",
              "      <th>title</th>\n",
              "    </tr>\n",
              "    <tr>\n",
              "      <th>country</th>\n",
              "      <th>classification</th>\n",
              "      <th></th>\n",
              "    </tr>\n",
              "  </thead>\n",
              "  <tbody>\n",
              "    <tr>\n",
              "      <th rowspan=\"2\" valign=\"top\">AE</th>\n",
              "      <th>NEGATIVE</th>\n",
              "      <td>13</td>\n",
              "    </tr>\n",
              "    <tr>\n",
              "      <th>POSITIVE</th>\n",
              "      <td>2</td>\n",
              "    </tr>\n",
              "    <tr>\n",
              "      <th rowspan=\"2\" valign=\"top\">CN</th>\n",
              "      <th>NEGATIVE</th>\n",
              "      <td>49</td>\n",
              "    </tr>\n",
              "    <tr>\n",
              "      <th>POSITIVE</th>\n",
              "      <td>33</td>\n",
              "    </tr>\n",
              "    <tr>\n",
              "      <th rowspan=\"2\" valign=\"top\">DE</th>\n",
              "      <th>NEGATIVE</th>\n",
              "      <td>38</td>\n",
              "    </tr>\n",
              "    <tr>\n",
              "      <th>POSITIVE</th>\n",
              "      <td>53</td>\n",
              "    </tr>\n",
              "    <tr>\n",
              "      <th rowspan=\"2\" valign=\"top\">EG</th>\n",
              "      <th>NEGATIVE</th>\n",
              "      <td>44</td>\n",
              "    </tr>\n",
              "    <tr>\n",
              "      <th>POSITIVE</th>\n",
              "      <td>7</td>\n",
              "    </tr>\n",
              "    <tr>\n",
              "      <th rowspan=\"2\" valign=\"top\">ES</th>\n",
              "      <th>NEGATIVE</th>\n",
              "      <td>4</td>\n",
              "    </tr>\n",
              "    <tr>\n",
              "      <th>POSITIVE</th>\n",
              "      <td>3</td>\n",
              "    </tr>\n",
              "    <tr>\n",
              "      <th rowspan=\"2\" valign=\"top\">FR</th>\n",
              "      <th>NEGATIVE</th>\n",
              "      <td>20</td>\n",
              "    </tr>\n",
              "    <tr>\n",
              "      <th>POSITIVE</th>\n",
              "      <td>13</td>\n",
              "    </tr>\n",
              "    <tr>\n",
              "      <th rowspan=\"2\" valign=\"top\">IN</th>\n",
              "      <th>NEGATIVE</th>\n",
              "      <td>20</td>\n",
              "    </tr>\n",
              "    <tr>\n",
              "      <th>POSITIVE</th>\n",
              "      <td>17</td>\n",
              "    </tr>\n",
              "    <tr>\n",
              "      <th rowspan=\"2\" valign=\"top\">IT</th>\n",
              "      <th>NEGATIVE</th>\n",
              "      <td>32</td>\n",
              "    </tr>\n",
              "    <tr>\n",
              "      <th>POSITIVE</th>\n",
              "      <td>11</td>\n",
              "    </tr>\n",
              "    <tr>\n",
              "      <th rowspan=\"2\" valign=\"top\">LB</th>\n",
              "      <th>NEGATIVE</th>\n",
              "      <td>7</td>\n",
              "    </tr>\n",
              "    <tr>\n",
              "      <th>POSITIVE</th>\n",
              "      <td>7</td>\n",
              "    </tr>\n",
              "    <tr>\n",
              "      <th rowspan=\"2\" valign=\"top\">RU</th>\n",
              "      <th>NEGATIVE</th>\n",
              "      <td>24</td>\n",
              "    </tr>\n",
              "    <tr>\n",
              "      <th>POSITIVE</th>\n",
              "      <td>8</td>\n",
              "    </tr>\n",
              "    <tr>\n",
              "      <th rowspan=\"2\" valign=\"top\">TR</th>\n",
              "      <th>NEGATIVE</th>\n",
              "      <td>50</td>\n",
              "    </tr>\n",
              "    <tr>\n",
              "      <th>POSITIVE</th>\n",
              "      <td>12</td>\n",
              "    </tr>\n",
              "    <tr>\n",
              "      <th rowspan=\"2\" valign=\"top\">US</th>\n",
              "      <th>NEGATIVE</th>\n",
              "      <td>58</td>\n",
              "    </tr>\n",
              "    <tr>\n",
              "      <th>POSITIVE</th>\n",
              "      <td>35</td>\n",
              "    </tr>\n",
              "    <tr>\n",
              "      <th rowspan=\"2\" valign=\"top\">VN</th>\n",
              "      <th>NEGATIVE</th>\n",
              "      <td>60</td>\n",
              "    </tr>\n",
              "    <tr>\n",
              "      <th>POSITIVE</th>\n",
              "      <td>16</td>\n",
              "    </tr>\n",
              "    <tr>\n",
              "      <th rowspan=\"2\" valign=\"top\">ZA</th>\n",
              "      <th>NEGATIVE</th>\n",
              "      <td>15</td>\n",
              "    </tr>\n",
              "    <tr>\n",
              "      <th>POSITIVE</th>\n",
              "      <td>38</td>\n",
              "    </tr>\n",
              "  </tbody>\n",
              "</table>\n",
              "</div>\n",
              "      <button class=\"colab-df-convert\" onclick=\"convertToInteractive('df-d34aa19b-1adf-4915-bbad-78bc3bf4a5f3')\"\n",
              "              title=\"Convert this dataframe to an interactive table.\"\n",
              "              style=\"display:none;\">\n",
              "        \n",
              "  <svg xmlns=\"http://www.w3.org/2000/svg\" height=\"24px\"viewBox=\"0 0 24 24\"\n",
              "       width=\"24px\">\n",
              "    <path d=\"M0 0h24v24H0V0z\" fill=\"none\"/>\n",
              "    <path d=\"M18.56 5.44l.94 2.06.94-2.06 2.06-.94-2.06-.94-.94-2.06-.94 2.06-2.06.94zm-11 1L8.5 8.5l.94-2.06 2.06-.94-2.06-.94L8.5 2.5l-.94 2.06-2.06.94zm10 10l.94 2.06.94-2.06 2.06-.94-2.06-.94-.94-2.06-.94 2.06-2.06.94z\"/><path d=\"M17.41 7.96l-1.37-1.37c-.4-.4-.92-.59-1.43-.59-.52 0-1.04.2-1.43.59L10.3 9.45l-7.72 7.72c-.78.78-.78 2.05 0 2.83L4 21.41c.39.39.9.59 1.41.59.51 0 1.02-.2 1.41-.59l7.78-7.78 2.81-2.81c.8-.78.8-2.07 0-2.86zM5.41 20L4 18.59l7.72-7.72 1.47 1.35L5.41 20z\"/>\n",
              "  </svg>\n",
              "      </button>\n",
              "      \n",
              "  <style>\n",
              "    .colab-df-container {\n",
              "      display:flex;\n",
              "      flex-wrap:wrap;\n",
              "      gap: 12px;\n",
              "    }\n",
              "\n",
              "    .colab-df-convert {\n",
              "      background-color: #E8F0FE;\n",
              "      border: none;\n",
              "      border-radius: 50%;\n",
              "      cursor: pointer;\n",
              "      display: none;\n",
              "      fill: #1967D2;\n",
              "      height: 32px;\n",
              "      padding: 0 0 0 0;\n",
              "      width: 32px;\n",
              "    }\n",
              "\n",
              "    .colab-df-convert:hover {\n",
              "      background-color: #E2EBFA;\n",
              "      box-shadow: 0px 1px 2px rgba(60, 64, 67, 0.3), 0px 1px 3px 1px rgba(60, 64, 67, 0.15);\n",
              "      fill: #174EA6;\n",
              "    }\n",
              "\n",
              "    [theme=dark] .colab-df-convert {\n",
              "      background-color: #3B4455;\n",
              "      fill: #D2E3FC;\n",
              "    }\n",
              "\n",
              "    [theme=dark] .colab-df-convert:hover {\n",
              "      background-color: #434B5C;\n",
              "      box-shadow: 0px 1px 3px 1px rgba(0, 0, 0, 0.15);\n",
              "      filter: drop-shadow(0px 1px 2px rgba(0, 0, 0, 0.3));\n",
              "      fill: #FFFFFF;\n",
              "    }\n",
              "  </style>\n",
              "\n",
              "      <script>\n",
              "        const buttonEl =\n",
              "          document.querySelector('#df-d34aa19b-1adf-4915-bbad-78bc3bf4a5f3 button.colab-df-convert');\n",
              "        buttonEl.style.display =\n",
              "          google.colab.kernel.accessAllowed ? 'block' : 'none';\n",
              "\n",
              "        async function convertToInteractive(key) {\n",
              "          const element = document.querySelector('#df-d34aa19b-1adf-4915-bbad-78bc3bf4a5f3');\n",
              "          const dataTable =\n",
              "            await google.colab.kernel.invokeFunction('convertToInteractive',\n",
              "                                                     [key], {});\n",
              "          if (!dataTable) return;\n",
              "\n",
              "          const docLinkHtml = 'Like what you see? Visit the ' +\n",
              "            '<a target=\"_blank\" href=https://colab.research.google.com/notebooks/data_table.ipynb>data table notebook</a>'\n",
              "            + ' to learn more about interactive tables.';\n",
              "          element.innerHTML = '';\n",
              "          dataTable['output_type'] = 'display_data';\n",
              "          await google.colab.output.renderOutput(dataTable, element);\n",
              "          const docLink = document.createElement('div');\n",
              "          docLink.innerHTML = docLinkHtml;\n",
              "          element.appendChild(docLink);\n",
              "        }\n",
              "      </script>\n",
              "    </div>\n",
              "  </div>\n",
              "  "
            ]
          },
          "metadata": {},
          "execution_count": 6
        }
      ]
    },
    {
      "cell_type": "code",
      "source": [
        "# need reset_index() so values can be ploted \n",
        "new = df[[\"classification\", \"country\",\"title\"]].groupby([\"country\", \"classification\"]).count().reset_index()\n",
        "\n",
        "sns.set(rc={'figure.figsize':(11.7,8.27)})\n",
        "ax = sns.barplot(x='country',y='title',hue='classification',data=new, palette=[\"#FF0000\", \"#00FF00\"])\n"
      ],
      "metadata": {
        "colab": {
          "base_uri": "https://localhost:8080/",
          "height": 517
        },
        "id": "H_etxDwFPNZD",
        "outputId": "167a57bc-82eb-489e-ca04-95208b11e47f"
      },
      "execution_count": 7,
      "outputs": [
        {
          "output_type": "display_data",
          "data": {
            "text/plain": [
              "<Figure size 842.4x595.44 with 1 Axes>"
            ],
            "image/png": "[encoded data removed]"
          },
          "metadata": {}
        }
      ]
    },
    {
      "cell_type": "code",
      "source": [
        "#define data\n",
        "data = df.classification.value_counts()\n",
        "labels = [\"NEGATIVE\", \"POSITIVE\"]\n",
        "\n",
        "#define Seaborn color palette to use\n",
        "colors = [\"#FF0000\", \"#00FF00\"]\n",
        "\n",
        "#create pie chart\n",
        "plt.pie(data, labels = labels, colors = colors, autopct='%.0f%%')\n",
        "plt.show()"
      ],
      "metadata": {
        "colab": {
          "base_uri": "https://localhost:8080/",
          "height": 480
        },
        "id": "0NQ6ZvhHlOiE",
        "outputId": "3a25a0b9-1928-43e1-d93c-0cd33cf0f7ee"
      },
      "execution_count": 23,
      "outputs": [
        {
          "output_type": "display_data",
          "data": {
            "text/plain": [
              "<Figure size 842.4x595.44 with 1 Axes>"
            ],
            "image/png": "[encoded data removed]"
          },
          "metadata": {}
        }
      ]
    }
  ]
}