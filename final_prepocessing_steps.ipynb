{
  "nbformat": 4,
  "nbformat_minor": 0,
  "metadata": {
    "colab": {
      "name": "Final_prepocessing_steps.ipynb",
      "provenance": [],
      "collapsed_sections": []
    },
    "kernelspec": {
      "name": "python3",
      "display_name": "Python 3"
    },
    "language_info": {
      "name": "python"
    }
  },
  "cells": [
    {
      "cell_type": "markdown",
      "source": [
        "## Merge all prepocessed data to start analysis\n"
      ],
      "metadata": {
        "id": "gfsYskP55RxD"
      }
    },
    {
      "cell_type": "code",
      "execution_count": 5,
      "metadata": {
        "colab": {
          "base_uri": "https://localhost:8080/"
        },
        "id": "vsq_Yvgj5Bib",
        "outputId": "08cbc6db-6475-4e94-ed47-c1da3c24bc2b"
      },
      "outputs": [
        {
          "output_type": "stream",
          "name": "stdout",
          "text": [
            "Drive already mounted at /content/drive; to attempt to forcibly remount, call drive.mount(\"/content/drive\", force_remount=True).\n"
          ]
        }
      ],
      "source": [
        "# connect to google drive\n",
        "\n",
        "from google.colab import drive\n",
        "drive.mount('/content/drive')"
      ]
    },
    {
      "cell_type": "code",
      "source": [
        "# import necessary libraries\n",
        "import pandas as pd\n",
        "import glob\n",
        "import os\n",
        "\n",
        "path = '/content/drive/MyDrive/2022.05.24_Final-Project_Shared-Folder/classified/reviewed'\n",
        "\n",
        "# use glob to get all the csv files in the folder\n",
        "csv_files = glob.glob(os.path.join(path, \"*.csv\"))\n",
        "    \n",
        "# loop over the list of csv files\n",
        "df_files = (pd.read_csv(f) for f in csv_files)\n",
        "# concat to one dataframe\n",
        "df = pd.concat(df_files, ignore_index=True)\n",
        "# reset the index of final DataFrame\n",
        "df.reset_index(inplace = True, drop = True)\n",
        "# drop columns not important for the analysis\n",
        "df.drop(['Unnamed: 0', 'review', 'classification_title'], axis = 1, inplace = True)"
      ],
      "metadata": {
        "id": "dCNobKnn6g-D"
      },
      "execution_count": null,
      "outputs": []
    },
    {
      "cell_type": "code",
      "source": [
        "print(df.info())\n",
        "df.sample(5)"
      ],
      "metadata": {
        "colab": {
          "base_uri": "https://localhost:8080/",
          "height": 597
        },
        "id": "4lk3Q8Q0E_kO",
        "outputId": "d201e992-b45c-4fd1-a59e-31afe5195344"
      },
      "execution_count": 38,
      "outputs": [
        {
          "output_type": "stream",
          "name": "stdout",
          "text": [
            "<class 'pandas.core.frame.DataFrame'>\n",
            "RangeIndex: 262 entries, 0 to 261\n",
            "Data columns (total 8 columns):\n",
            " #   Column          Non-Null Count  Dtype \n",
            "---  ------          --------------  ----- \n",
            " 0   title           262 non-null    object\n",
            " 1   country         262 non-null    object\n",
            " 2   summary         262 non-null    object\n",
            " 3   classification  262 non-null    object\n",
            " 4   language        262 non-null    object\n",
            " 5   topic           262 non-null    object\n",
            " 6   link            262 non-null    object\n",
            " 7   published_date  262 non-null    object\n",
            "dtypes: object(8)\n",
            "memory usage: 16.5+ KB\n",
            "None\n"
          ]
        },
        {
          "output_type": "execute_result",
          "data": {
            "text/plain": [
              "                                                 title country  \\\n",
              "80   Tocvan Ventures again with top drill results, ...      DE   \n",
              "112              Gold: $5,000 by the end of the decade      DE   \n",
              "136  Gold stable, gold stocks friendly, NATO on Rus...      DE   \n",
              "23                  Why Russian banks get rid of gold?      RU   \n",
              "170  War prices: wheat and gas in decline, oil rais...      IT   \n",
              "\n",
              "                                               summary classification  \\\n",
              "80   Tocvan Ventures continues the series of top dr...       POSITIVE   \n",
              "112  It is something like the Bible of the gold inv...       POSITIVE   \n",
              "136  Gold prices are improving in yesterday's New Y...       POSITIVE   \n",
              "23   Why Russian banks lose gold - RIA News, 02.06....       NEGATIVE   \n",
              "170  Sitting in bending for the gold and the silver...       NEGATIVE   \n",
              "\n",
              "    language topic                                               link  \\\n",
              "80        de  news  https://www.wallstreet-online.de/nachricht/155...   \n",
              "112       de  news  https://www.deraktionaer.de/artikel/gold-rohst...   \n",
              "136       de  news  http://www.aktiencheck.de/kolumnen/Artikel-Gol...   \n",
              "23        ru  news     https://ria.ru/20220602/zoloto-1792406411.html   \n",
              "170       it  news  https://www.larena.it/argomenti/economia/prezz...   \n",
              "\n",
              "          published_date  \n",
              "80   2022-05-26 20:32:00  \n",
              "112   2022-05-25 8:06:00  \n",
              "136   2022-05-25 9:00:00  \n",
              "23   2022-06-02 05:00:00  \n",
              "170   2022-05-26 9:55:00  "
            ],
            "text/html": [
              "\n",
              "  <div id=\"df-444dd714-eada-4e54-a602-20bec3aff872\">\n",
              "    <div class=\"colab-df-container\">\n",
              "      <div>\n",
              "<style scoped>\n",
              "    .dataframe tbody tr th:only-of-type {\n",
              "        vertical-align: middle;\n",
              "    }\n",
              "\n",
              "    .dataframe tbody tr th {\n",
              "        vertical-align: top;\n",
              "    }\n",
              "\n",
              "    .dataframe thead th {\n",
              "        text-align: right;\n",
              "    }\n",
              "</style>\n",
              "<table border=\"1\" class=\"dataframe\">\n",
              "  <thead>\n",
              "    <tr style=\"text-align: right;\">\n",
              "      <th></th>\n",
              "      <th>title</th>\n",
              "      <th>country</th>\n",
              "      <th>summary</th>\n",
              "      <th>classification</th>\n",
              "      <th>language</th>\n",
              "      <th>topic</th>\n",
              "      <th>link</th>\n",
              "      <th>published_date</th>\n",
              "    </tr>\n",
              "  </thead>\n",
              "  <tbody>\n",
              "    <tr>\n",
              "      <th>80</th>\n",
              "      <td>Tocvan Ventures again with top drill results, ...</td>\n",
              "      <td>DE</td>\n",
              "      <td>Tocvan Ventures continues the series of top dr...</td>\n",
              "      <td>POSITIVE</td>\n",
              "      <td>de</td>\n",
              "      <td>news</td>\n",
              "      <td>https://www.wallstreet-online.de/nachricht/155...</td>\n",
              "      <td>2022-05-26 20:32:00</td>\n",
              "    </tr>\n",
              "    <tr>\n",
              "      <th>112</th>\n",
              "      <td>Gold: $5,000 by the end of the decade</td>\n",
              "      <td>DE</td>\n",
              "      <td>It is something like the Bible of the gold inv...</td>\n",
              "      <td>POSITIVE</td>\n",
              "      <td>de</td>\n",
              "      <td>news</td>\n",
              "      <td>https://www.deraktionaer.de/artikel/gold-rohst...</td>\n",
              "      <td>2022-05-25 8:06:00</td>\n",
              "    </tr>\n",
              "    <tr>\n",
              "      <th>136</th>\n",
              "      <td>Gold stable, gold stocks friendly, NATO on Rus...</td>\n",
              "      <td>DE</td>\n",
              "      <td>Gold prices are improving in yesterday's New Y...</td>\n",
              "      <td>POSITIVE</td>\n",
              "      <td>de</td>\n",
              "      <td>news</td>\n",
              "      <td>http://www.aktiencheck.de/kolumnen/Artikel-Gol...</td>\n",
              "      <td>2022-05-25 9:00:00</td>\n",
              "    </tr>\n",
              "    <tr>\n",
              "      <th>23</th>\n",
              "      <td>Why Russian banks get rid of gold?</td>\n",
              "      <td>RU</td>\n",
              "      <td>Why Russian banks lose gold - RIA News, 02.06....</td>\n",
              "      <td>NEGATIVE</td>\n",
              "      <td>ru</td>\n",
              "      <td>news</td>\n",
              "      <td>https://ria.ru/20220602/zoloto-1792406411.html</td>\n",
              "      <td>2022-06-02 05:00:00</td>\n",
              "    </tr>\n",
              "    <tr>\n",
              "      <th>170</th>\n",
              "      <td>War prices: wheat and gas in decline, oil rais...</td>\n",
              "      <td>IT</td>\n",
              "      <td>Sitting in bending for the gold and the silver...</td>\n",
              "      <td>NEGATIVE</td>\n",
              "      <td>it</td>\n",
              "      <td>news</td>\n",
              "      <td>https://www.larena.it/argomenti/economia/prezz...</td>\n",
              "      <td>2022-05-26 9:55:00</td>\n",
              "    </tr>\n",
              "  </tbody>\n",
              "</table>\n",
              "</div>\n",
              "      <button class=\"colab-df-convert\" onclick=\"convertToInteractive('df-444dd714-eada-4e54-a602-20bec3aff872')\"\n",
              "              title=\"Convert this dataframe to an interactive table.\"\n",
              "              style=\"display:none;\">\n",
              "        \n",
              "  <svg xmlns=\"http://www.w3.org/2000/svg\" height=\"24px\"viewBox=\"0 0 24 24\"\n",
              "       width=\"24px\">\n",
              "    <path d=\"M0 0h24v24H0V0z\" fill=\"none\"/>\n",
              "    <path d=\"M18.56 5.44l.94 2.06.94-2.06 2.06-.94-2.06-.94-.94-2.06-.94 2.06-2.06.94zm-11 1L8.5 8.5l.94-2.06 2.06-.94-2.06-.94L8.5 2.5l-.94 2.06-2.06.94zm10 10l.94 2.06.94-2.06 2.06-.94-2.06-.94-.94-2.06-.94 2.06-2.06.94z\"/><path d=\"M17.41 7.96l-1.37-1.37c-.4-.4-.92-.59-1.43-.59-.52 0-1.04.2-1.43.59L10.3 9.45l-7.72 7.72c-.78.78-.78 2.05 0 2.83L4 21.41c.39.39.9.59 1.41.59.51 0 1.02-.2 1.41-.59l7.78-7.78 2.81-2.81c.8-.78.8-2.07 0-2.86zM5.41 20L4 18.59l7.72-7.72 1.47 1.35L5.41 20z\"/>\n",
              "  </svg>\n",
              "      </button>\n",
              "      \n",
              "  <style>\n",
              "    .colab-df-container {\n",
              "      display:flex;\n",
              "      flex-wrap:wrap;\n",
              "      gap: 12px;\n",
              "    }\n",
              "\n",
              "    .colab-df-convert {\n",
              "      background-color: #E8F0FE;\n",
              "      border: none;\n",
              "      border-radius: 50%;\n",
              "      cursor: pointer;\n",
              "      display: none;\n",
              "      fill: #1967D2;\n",
              "      height: 32px;\n",
              "      padding: 0 0 0 0;\n",
              "      width: 32px;\n",
              "    }\n",
              "\n",
              "    .colab-df-convert:hover {\n",
              "      background-color: #E2EBFA;\n",
              "      box-shadow: 0px 1px 2px rgba(60, 64, 67, 0.3), 0px 1px 3px 1px rgba(60, 64, 67, 0.15);\n",
              "      fill: #174EA6;\n",
              "    }\n",
              "\n",
              "    [theme=dark] .colab-df-convert {\n",
              "      background-color: #3B4455;\n",
              "      fill: #D2E3FC;\n",
              "    }\n",
              "\n",
              "    [theme=dark] .colab-df-convert:hover {\n",
              "      background-color: #434B5C;\n",
              "      box-shadow: 0px 1px 3px 1px rgba(0, 0, 0, 0.15);\n",
              "      filter: drop-shadow(0px 1px 2px rgba(0, 0, 0, 0.3));\n",
              "      fill: #FFFFFF;\n",
              "    }\n",
              "  </style>\n",
              "\n",
              "      <script>\n",
              "        const buttonEl =\n",
              "          document.querySelector('#df-444dd714-eada-4e54-a602-20bec3aff872 button.colab-df-convert');\n",
              "        buttonEl.style.display =\n",
              "          google.colab.kernel.accessAllowed ? 'block' : 'none';\n",
              "\n",
              "        async function convertToInteractive(key) {\n",
              "          const element = document.querySelector('#df-444dd714-eada-4e54-a602-20bec3aff872');\n",
              "          const dataTable =\n",
              "            await google.colab.kernel.invokeFunction('convertToInteractive',\n",
              "                                                     [key], {});\n",
              "          if (!dataTable) return;\n",
              "\n",
              "          const docLinkHtml = 'Like what you see? Visit the ' +\n",
              "            '<a target=\"_blank\" href=https://colab.research.google.com/notebooks/data_table.ipynb>data table notebook</a>'\n",
              "            + ' to learn more about interactive tables.';\n",
              "          element.innerHTML = '';\n",
              "          dataTable['output_type'] = 'display_data';\n",
              "          await google.colab.output.renderOutput(dataTable, element);\n",
              "          const docLink = document.createElement('div');\n",
              "          docLink.innerHTML = docLinkHtml;\n",
              "          element.appendChild(docLink);\n",
              "        }\n",
              "      </script>\n",
              "    </div>\n",
              "  </div>\n",
              "  "
            ]
          },
          "metadata": {},
          "execution_count": 38
        }
      ]
    },
    {
      "cell_type": "code",
      "source": [
        "# save dataframe to csv\n",
        "df.to_csv(f\"/content/drive/MyDrive/2022.05.24_Final-Project_Shared-Folder/final_dataset.csv\")"
      ],
      "metadata": {
        "id": "P_H3NH_DDHUT"
      },
      "execution_count": 37,
      "outputs": []
    },
    {
      "cell_type": "markdown",
      "source": [
        "## Do some basic analytics\n",
        "\n",
        "main analysis should be done in Tablou though, to practise that tool as well"
      ],
      "metadata": {
        "id": "u8DMa8nIS2XM"
      }
    },
    {
      "cell_type": "code",
      "source": [
        "import matplotlib.pyplot as plt\n",
        "import seaborn as sns\n",
        "sns.set_style(\"darkgrid\")\n",
        "\n",
        "# exclude some columns first\n",
        "plot_df = df.drop(['link', 'summary', 'title'], axis = 1)\n",
        "\n",
        "# trim the publishing date \n",
        "#plot_df['published_date'] = pd.to_datetime(df['published_date']).dt.normalize() # this one keeps the time but sets it to 00:00:00\n",
        "plot_df['published_date'] = pd.to_datetime(plot_df['published_date']).dt.date\n",
        "\n",
        "fig = plt.figure(figsize=(18,20))\n",
        "for index in range(len(plot_df.columns)):\n",
        "    plt.subplot(9,5,index+1)\n",
        "    sns.countplot(x=plot_df.iloc[:,index], data=plot_df.dropna())\n",
        "    plt.xticks(rotation=90)\n",
        "fig.tight_layout(pad=1.0)"
      ],
      "metadata": {
        "colab": {
          "base_uri": "https://localhost:8080/",
          "height": 190
        },
        "id": "HmmZRaqJS-b5",
        "outputId": "ecd2b7b0-5edf-46b5-b0fd-8cb7da5e0670"
      },
      "execution_count": 45,
      "outputs": [
        {
          "output_type": "display_data",
          "data": {
            "text/plain": [
              "<Figure size 1296x1440 with 5 Axes>"
            ],
            "image/png": "[encoded data removed]"
          },
          "metadata": {}
        }
      ]
    }
  ]
}