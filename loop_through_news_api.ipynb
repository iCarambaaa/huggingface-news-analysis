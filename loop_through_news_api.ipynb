{
  "cells": [
    {
      "cell_type": "code",
      "execution_count": null,
      "metadata": {
        "colab": {
          "base_uri": "https://localhost:8080/"
        },
        "id": "9HUbgQdvrvnT",
        "outputId": "39561669-822c-4d96-a321-c2b51303fd81"
      },
      "outputs": [],
      "source": [
        "# connect to google drive\n",
        "\n",
        "from google.colab import drive\n",
        "drive.mount('/content/drive')"
      ]
    },
    {
      "cell_type": "code",
      "execution_count": null,
      "metadata": {
        "colab": {
          "base_uri": "https://localhost:8080/"
        },
        "id": "3qsVBemGP_rh",
        "outputId": "f4079b61-cfc8-4203-d51a-9262f7a5bcb8"
      },
      "outputs": [],
      "source": [
        "import requests\n",
        "import pandas as pd \n",
        "import json\n",
        "from pandas import json_normalize\n",
        "import time\n",
        "\n",
        "url = \"https://newscatcher.p.rapidapi.com/v1/search\"\n",
        "\n",
        "page = 1\n",
        "\n",
        "headers = {\n",
        "\t\"X-RapidAPI-Host\": \"newscatcher.p.rapidapi.com\",\n",
        "\t\"X-RapidAPI-Key\": \"SECRET KEY\"\n",
        "}\n",
        "\n",
        "df = pd.DataFrame()\n",
        "\n",
        "# loop for multiple pages api call\n",
        "while page <= 5:\n",
        "  querystring = {\"q\":\"золото\",\"lang\":\"ru\",\"sort_by\":\"relevancy\",\"country\":\"ru\",\"topic\":\"economics\",\"page\": page,\"media\":\"True\"}\n",
        "  response = requests.request(\"GET\", url, headers=headers, params=querystring)\n",
        "  dict = json.loads(response.text)\n",
        "  # Use json_normalize() to convert JSON to DataFrame\n",
        "  df = df.append(json_normalize(dict['articles']))\n",
        "  print(page)\n",
        "  print(dict)\n",
        "  print(20*\"-\")\n",
        "  page += 1\n",
        "  time.sleep(0.5)\n",
        "\n",
        "#display(df)"
      ]
    },
    {
      "cell_type": "code",
      "execution_count": 8,
      "metadata": {
        "id": "3kuXQkWza_H_"
      },
      "outputs": [],
      "source": [
        "# reset the index of final DataFrame\n",
        "df.reset_index(inplace = True, drop = True)\n",
        "df"
      ]
    },
    {
      "cell_type": "code",
      "execution_count": null,
      "metadata": {
        "colab": {
          "base_uri": "https://localhost:8080/",
          "height": 1000
        },
        "id": "lihgcTf7snAf",
        "outputId": "8acb6b97-c28d-4e82-84e7-072264a736b3"
      },
      "outputs": [],
      "source": [
        "# save the DataFrame to csv file (don't forget to give it a proper name)\n",
        "df.to_csv(\"/content/drive/MyDrive/news_ru.csv\")"
      ]
    }
  ],
  "metadata": {
    "colab": {
      "name": "loop_through_news_api.ipynb",
      "provenance": []
    },
    "kernelspec": {
      "display_name": "Python 3",
      "name": "python3"
    },
    "language_info": {
      "name": "python"
    }
  },
  "nbformat": 4,
  "nbformat_minor": 0
}
